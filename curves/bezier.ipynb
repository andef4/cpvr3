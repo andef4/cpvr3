{
 "cells": [
  {
   "cell_type": "code",
   "execution_count": 3,
   "metadata": {},
   "outputs": [],
   "source": [
    "from PIL import Image, ImageDraw\n",
    "import numpy as np"
   ]
  },
  {
   "cell_type": "code",
   "execution_count": 4,
   "metadata": {},
   "outputs": [],
   "source": [
    "def bezier3(points, steps=1000):\n",
    "    bezier_points = []\n",
    "    MATRIX3 = np.array([\n",
    "        [-1, 3, -3, 1],\n",
    "        [3, -6, 3, 0],\n",
    "        [-3, 3, 0, 0],\n",
    "        [1, 0, 0, 0],\n",
    "    ])\n",
    "    for i in range(1, steps):\n",
    "        t = 1 / steps * i\n",
    "        coefficients = np.array([t**3, t**2, t, 1])\n",
    "        mat = coefficients * MATRIX3\n",
    "\n",
    "        B30 = (1-t)**3\n",
    "        B31 = 3*t*((1 - t)**2)\n",
    "        B32 = 3*(t**2)*(1-t)\n",
    "        B33 = t**3\n",
    "        x = B30 * points[0][0] + B31 * points[1][0] + B32 * points[2][0] + B33 * points[3][0]\n",
    "        y = B30 * points[0][1] + B31 * points[1][1] + B32 * points[2][1] + B33 * points[3][1]\n",
    "        bezier_points.append((x, y))\n",
    "    return bezier_points"
   ]
  },
  {
   "cell_type": "code",
   "execution_count": 5,
   "metadata": {
    "scrolled": false
   },
   "outputs": [
    {
     "data": {
      "image/png": "[encoded data removed]",
      "text/plain": [
       "<PIL.Image.Image image mode=RGB size=250x250 at 0x7FDC542D17F0>"
      ]
     },
     "execution_count": 5,
     "metadata": {},
     "output_type": "execute_result"
    }
   ],
   "source": [
    "points = np.array([\n",
    "    (1, 1),\n",
    "    (2, 3),\n",
    "    (4, 3),\n",
    "    (3, 1),\n",
    "])\n",
    "\n",
    "im = Image.new('RGB', (250, 250), color='white')\n",
    "draw = ImageDraw.Draw(im)\n",
    "\n",
    "for i in range(0, 3):\n",
    "    points[i]\n",
    "    draw.line((tuple(points[i] * 50), tuple(points[i + 1] * 50)), fill='blue')\n",
    "\n",
    "points = bezier3(points)\n",
    "for (x, y) in points:\n",
    "    draw.point((x * 50, y * 50), fill='black')\n",
    "\n",
    "im.transpose(Image.FLIP_TOP_BOTTOM)"
   ]
  },
  {
   "cell_type": "code",
   "execution_count": 6,
   "metadata": {},
   "outputs": [
    {
     "data": {
      "text/plain": [
       "'\\nMATRIX3 = np.array([\\n    [-1, 3, -3, 1],\\n    [3, -6, 3, 0],\\n    [-3, 3, 0, 0],\\n    [1, 0, 0, 0],\\ncoefficients = np.array([t**3, t**2, t, 1])\\nmat = coefficients * MATRIX3\\nnp.dot(points, mat)\\n'"
      ]
     },
     "execution_count": 6,
     "metadata": {},
     "output_type": "execute_result"
    }
   ],
   "source": [
    "\"\"\"\n",
    "MATRIX3 = np.array([\n",
    "    [-1, 3, -3, 1],\n",
    "    [3, -6, 3, 0],\n",
    "    [-3, 3, 0, 0],\n",
    "    [1, 0, 0, 0],\n",
    "coefficients = np.array([t**3, t**2, t, 1])\n",
    "mat = coefficients * MATRIX3\n",
    "np.dot(points, mat)\n",
    "\"\"\""
   ]
  },
  {
   "cell_type": "code",
   "execution_count": 7,
   "metadata": {},
   "outputs": [
    {
     "data": {
      "image/png": "[encoded data removed]",
      "text/plain": [
       "<PIL.Image.Image image mode=RGB size=250x250 at 0x7FDC54300278>"
      ]
     },
     "execution_count": 7,
     "metadata": {},
     "output_type": "execute_result"
    }
   ],
   "source": [
    "from symbol import SYMBOL\n",
    "\n",
    "def s(x):\n",
    "    return x * 20 + 150\n",
    "\n",
    "im = Image.new('RGB', (250, 250), color='white')\n",
    "draw = ImageDraw.Draw(im)\n",
    "\n",
    "for element in SYMBOL:\n",
    "    if len(element) == 2:\n",
    "        draw.line(((s(element[0][0]), s(element[0][1])), (s(element[1][0]), s(element[1][1]))), fill='black')\n",
    "    else:\n",
    "        points = bezier3(element)\n",
    "        for (x, y) in points:\n",
    "            draw.point((s(x), s(y)), fill='black')\n",
    "        \n",
    "im.transpose(Image.FLIP_TOP_BOTTOM)"
   ]
  }
 ],
 "metadata": {
  "kernelspec": {
   "display_name": "Python 3",
   "language": "python",
   "name": "python3"
  },
  "language_info": {
   "codemirror_mode": {
    "name": "ipython",
    "version": 3
   },
   "file_extension": ".py",
   "mimetype": "text/x-python",
   "name": "python",
   "nbconvert_exporter": "python",
   "pygments_lexer": "ipython3",
   "version": "3.7.2"
  }
 },
 "nbformat": 4,
 "nbformat_minor": 2
}
